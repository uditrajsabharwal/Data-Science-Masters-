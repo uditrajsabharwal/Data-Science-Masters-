{
 "cells": [
  {
   "cell_type": "markdown",
   "id": "3751b235-5923-4cce-a94e-84bbe3717ba3",
   "metadata": {},
   "source": [
    "# Assignment 29th January \n"
   ]
  },
  {
   "cell_type": "markdown",
   "id": "337dd7ff-a4c2-4e77-98a7-b3a41e1d5336",
   "metadata": {},
   "source": [
    "1. Who developed Python Programming Language? \n",
    "\n",
    "    <b> Guido Van Rossum developed Python\n",
    "\n",
    "2. Which type of Programming does Python support? \n",
    "\n",
    "    <b> Python supports both object-oriented and procedural programming\n",
    "\n",
    "3. Is Python case sensitive when dealing with identifiers? \n",
    "\n",
    "    <b> Yes\n",
    "\n",
    "4. What is the correct extension of the Python file? \n",
    "\n",
    "    <b> ipynb\n",
    "\n",
    "5. Is Python code compiled or interpreted? \n",
    "\n",
    "    <b> Python is compiled and then interpreted\n",
    "\n",
    "6. Name a few blocks of code used to define in Python langauge? \n",
    "\n",
    "    <b> Indentation\n",
    "\n",
    "7. State a character used to file single-line comments in Python? \n",
    "    \n",
    "    <b> # \n",
    "\n",
    "8. Mention functions which can help us to find the version of python we are currently working on? \n",
    "    \n",
    "    <b> !jupyter --version \n",
    "\n",
    "9. Python supports the creation of anonymous functions at runtime, using a construct called ------- \n",
    "\n",
    "    <b> using a construct called lambda\n",
    "\n",
    "10. What does pip stand for python?\n",
    "\n",
    "    <b> pip installs packages\n",
    "\n",
    "11. Mention a few built-in functions in python? \n",
    "    \n",
    "    <b> abs, all, any etc. \n",
    "\n",
    "12. What is the maximum possible length of an identifier in Python? \n",
    "    \n",
    "    <b> 79 characters\n",
    "\n",
    "13. What are the benefits of using Python? \n",
    "    \n",
    "    <b> Large library of frameworks, Cross platform support, Extensive Libraries, Versatility of use - web scraping, machine learning etc.\n",
    "\n",
    "14. How is the memory managed in Python? \n",
    "    \n",
    "    <b> In Python memory allocation and deallocation method is automatic as the Python developers created a garbage collector for Python so that the user does not have to do manual garbage collection.\n",
    "\n",
    "15. How to install Python on Windows and set path variables? \n",
    "    \n",
    "    <b> Download from Python.org\n",
    "\n",
    "16. Is indentation required in Python? \n",
    "    \n",
    "    <b> Yes indentation is important for Python as without proper indentation there is an indentation error in the code. \n"
   ]
  }
 ],
 "metadata": {
  "kernelspec": {
   "display_name": "Python 3 (ipykernel)",
   "language": "python",
   "name": "python3"
  },
  "language_info": {
   "codemirror_mode": {
    "name": "ipython",
    "version": 3
   },
   "file_extension": ".py",
   "mimetype": "text/x-python",
   "name": "python",
   "nbconvert_exporter": "python",
   "pygments_lexer": "ipython3",
   "version": "3.9.13"
  },
  "toc-showcode": true
 },
 "nbformat": 4,
 "nbformat_minor": 5
}
