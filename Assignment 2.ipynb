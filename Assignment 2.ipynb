{
 "cells": [
  {
   "cell_type": "markdown",
   "id": "06ad651e-2c0e-4684-bf22-fbc8f7dc901c",
   "metadata": {},
   "source": [
    "# Assignment 29th January "
   ]
  },
  {
   "cell_type": "markdown",
   "id": "ec8c5e1a-c671-4bc4-8db3-53ae72bd1565",
   "metadata": {},
   "source": [
    "1. Program to accept percentage and display grade"
   ]
  },
  {
   "cell_type": "code",
   "execution_count": 9,
   "id": "6d3d7409-1b7c-4828-8b02-1ae3aa5a33da",
   "metadata": {},
   "outputs": [
    {
     "name": "stdin",
     "output_type": "stream",
     "text": [
      "Enter the marks -50\n"
     ]
    },
    {
     "name": "stdout",
     "output_type": "stream",
     "text": [
      "D\n"
     ]
    }
   ],
   "source": [
    "marks=int(input('Enter the marks'))\n",
    "if marks>90:\n",
    "    print(\"A\")\n",
    "elif marks>80 and marks<=90:\n",
    "    print(\"B\")\n",
    "elif marks>=60 and marks<=80:\n",
    "    print(\"C\")\n",
    "else:\n",
    "    print(\"D\")"
   ]
  },
  {
   "cell_type": "markdown",
   "id": "45c208c1-4aef-4d12-85b6-a3f0e74db238",
   "metadata": {},
   "source": [
    "2. Program to accept the cost price of a bike and display the road tax to be paid "
   ]
  },
  {
   "cell_type": "code",
   "execution_count": 20,
   "id": "3239e5ef-40d1-4034-bed6-6eec5a49b6ec",
   "metadata": {},
   "outputs": [
    {
     "name": "stdin",
     "output_type": "stream",
     "text": [
      "Enter the bike price 9000\n"
     ]
    },
    {
     "name": "stdout",
     "output_type": "stream",
     "text": [
      "The tax payable is 450.0\n"
     ]
    }
   ],
   "source": [
    "price_bike=int(input('Enter the bike price'))\n",
    "if price_bike>100000:\n",
    "    print(f\"The tax payable is {price_bike*0.15}\")\n",
    "elif price_bike>50000 and price_bike<=100000:\n",
    "    print(f\"The tax payable is {price_bike*0.10}\")\n",
    "else: print (f\"The tax payable is {price_bike*0.05}\")\n"
   ]
  },
  {
   "cell_type": "markdown",
   "id": "a63c9690-d2a1-4552-ade4-cdb7bae9324a",
   "metadata": {},
   "source": [
    "3. Accept any city from the user and display the monuments in the city"
   ]
  },
  {
   "cell_type": "code",
   "execution_count": 5,
   "id": "488b32fc-fe1d-4e38-bf6c-d98959700569",
   "metadata": {},
   "outputs": [
    {
     "name": "stdin",
     "output_type": "stream",
     "text": [
      "Enter the city name Delhi\n"
     ]
    },
    {
     "name": "stdout",
     "output_type": "stream",
     "text": [
      "Red Fort\n"
     ]
    }
   ],
   "source": [
    "city=input(str('Enter the city name'))\n",
    "if city == 'Delhi': \n",
    "    print(\"Red Fort\")\n",
    "elif city =='Agra':\n",
    "    print(\"Taj Mahal\")\n",
    "elif city =='Jaipur':\n",
    "    print(\"Jal Mahal\")\n",
    "else:\n",
    "    print(\"Enter city name from Delhi, Agra or Jaipur\")"
   ]
  },
  {
   "cell_type": "markdown",
   "id": "b57d6a3d-942a-4157-a00f-3118325b50c3",
   "metadata": {},
   "source": [
    "4. Check how many times a number can be divided by 3 before it is less than or equal to 10"
   ]
  },
  {
   "cell_type": "code",
   "execution_count": 26,
   "id": "e5f38057-35ab-46ff-8092-b1b488b06932",
   "metadata": {},
   "outputs": [
    {
     "name": "stdin",
     "output_type": "stream",
     "text": [
      "Enter a number:  20\n"
     ]
    },
    {
     "name": "stdout",
     "output_type": "stream",
     "text": [
      "The number 20 can be divided by 3 1 times before it is less than or equal to 10.\n"
     ]
    }
   ],
   "source": [
    "def count_divisions(number):\n",
    "  count = 0\n",
    "  while number > 10:\n",
    "    number = number // 3\n",
    "    count += 1\n",
    "  return count\n",
    "\n",
    "number = int(input(\"Enter a number: \"))\n",
    "print(f\"The number {number} can be divided by 3 {count_divisions(number)} times before it is less than or equal to 10.\")"
   ]
  },
  {
   "cell_type": "markdown",
   "id": "65f33801-bc92-4b1d-8744-39c66dd642f4",
   "metadata": {},
   "source": [
    "5. Why and when to use Loop Function with a detailed example."
   ]
  },
  {
   "cell_type": "markdown",
   "id": "bce90e03-38cc-4b8c-a8f8-92085c1ac26c",
   "metadata": {},
   "source": [
    "A Loop Function is used to execute a block of functions till a condition is satisfied. For instance, if you want to check whether enough cash has been withdrawn after several transactions from an ATM then using a loop function can help to display the relevant message on the screen. "
   ]
  },
  {
   "cell_type": "markdown",
   "id": "76337ffe-fa36-41d7-ab26-100af5c8191b",
   "metadata": {},
   "source": [
    "6. Use nested while loop to print 3 different pattern."
   ]
  },
  {
   "cell_type": "code",
   "execution_count": 26,
   "id": "dc34da6c-cf9d-4753-92b5-e7e102b0e797",
   "metadata": {},
   "outputs": [
    {
     "name": "stdout",
     "output_type": "stream",
     "text": [
      "1\n",
      "2\n",
      "3\n",
      "3\n",
      "3\n",
      "2\n",
      "3\n",
      "3\n",
      "3\n"
     ]
    }
   ],
   "source": [
    "i=0\n",
    "while i < 1:\n",
    "    print (\"1\")\n",
    "    a=0\n",
    "    while a < 2:\n",
    "        print (\"2\")\n",
    "        b=0\n",
    "        while b < 3:\n",
    "            print (\"3\")\n",
    "            b=b+1\n",
    "        a = a+1\n",
    "    i=i+1"
   ]
  },
  {
   "cell_type": "markdown",
   "id": "e2c0a985-14d8-4e71-bbc9-be6940af3402",
   "metadata": {},
   "source": [
    "7. Reverse a while loop to display numbers from 10 to 1"
   ]
  },
  {
   "cell_type": "code",
   "execution_count": 50,
   "id": "b8c30b3c-4eed-4256-9920-a744963313df",
   "metadata": {},
   "outputs": [
    {
     "name": "stdout",
     "output_type": "stream",
     "text": [
      "10\n",
      "9\n",
      "8\n",
      "7\n",
      "6\n",
      "5\n",
      "4\n",
      "3\n",
      "2\n",
      "1\n"
     ]
    }
   ],
   "source": [
    "count = 11\n",
    "while count>1: \n",
    "    count = count-1\n",
    "    print (count) \n",
    "    "
   ]
  }
 ],
 "metadata": {
  "kernelspec": {
   "display_name": "Python 3 (ipykernel)",
   "language": "python",
   "name": "python3"
  },
  "language_info": {
   "codemirror_mode": {
    "name": "ipython",
    "version": 3
   },
   "file_extension": ".py",
   "mimetype": "text/x-python",
   "name": "python",
   "nbconvert_exporter": "python",
   "pygments_lexer": "ipython3",
   "version": "3.9.13"
  }
 },
 "nbformat": 4,
 "nbformat_minor": 5
}
